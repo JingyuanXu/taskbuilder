{
 "cells": [
  {
   "cell_type": "markdown",
   "metadata": {},
   "source": [
    "# Consent Session Fuzzy Detection using Pre-trained BERT\n",
    "This notebook loads a Hugging Face model trained for vagueness detection to classify each sub-task comment as either 'Vague' or 'Clear', providing a semantic alternative to rule-based matching."
   ]
  },
  {
   "cell_type": "code",
   "execution_count": 1,
   "metadata": {},
   "outputs": [],
   "source": [
    "!pip install transformers -q"
   ]
  },
  {
   "cell_type": "code",
   "execution_count": 3,
   "metadata": {},
   "outputs": [],
   "source": [
    "from transformers import AutoTokenizer, AutoModelForSequenceClassification\n",
    "import torch\n",
    "import matplotlib.pyplot as plt\n",
    "from bs4 import BeautifulSoup"
   ]
  },
  {
   "cell_type": "code",
   "execution_count": 4,
   "metadata": {},
   "outputs": [],
   "source": [
    "def parse_consent_session_xml(xml_file_path):\n",
    "    with open(xml_file_path, \"r\", encoding=\"utf-8\") as f:\n",
    "        soup = BeautifulSoup(f, \"xml\")\n",
    "\n",
    "    session_name = soup.find(\"taskName\").text.strip()\n",
    "    overall_score = soup.find(\"result\").text.strip()\n",
    "    items = soup.find_all(\"item\")\n",
    "\n",
    "    subtask_names = [item.find(\"taskName\").text.strip() for item in items]\n",
    "    subtask_scores = [float(item.find(\"result\").text.strip()) for item in items]\n",
    "    comments = [item.find(\"comment\").text.strip() for item in items]\n",
    "\n",
    "    return session_name, overall_score, subtask_names, subtask_scores, comments"
   ]
  },
  {
   "cell_type": "code",
   "execution_count": 5,
   "metadata": {},
   "outputs": [
    {
     "name": "stderr",
     "output_type": "stream",
     "text": [
      "Device set to use cpu\n"
     ]
    }
   ],
   "source": [
    "from transformers import AutoTokenizer, AutoModelForSequenceClassification, pipeline\n",
    "\n",
    "model_id = \"Slomb/Ambig_Question\"\n",
    "tokenizer = AutoTokenizer.from_pretrained(model_id)\n",
    "model = AutoModelForSequenceClassification.from_pretrained(model_id)\n",
    "\n",
    "nlp = pipeline(\"text-classification\", model=model, tokenizer=tokenizer)\n"
   ]
  },
  {
   "cell_type": "code",
   "execution_count": 6,
   "metadata": {},
   "outputs": [
    {
     "name": "stdout",
     "output_type": "stream",
     "text": [
      "'Did he do it?' --> AMBIG (0.90)\n",
      "'Did Peter win the game?' --> CLEAR (0.89)\n",
      "'What time is the meeting?' --> AMBIG (0.73)\n",
      "'Is it raining?' --> AMBIG (0.89)\n"
     ]
    }
   ],
   "source": [
    "texts = [\n",
    "    \"Did he do it?\",\n",
    "    \"Did Peter win the game?\",\n",
    "    \"What time is the meeting?\",\n",
    "    \"Is it raining?\"\n",
    "]\n",
    "\n",
    "results = nlp(texts)\n",
    "for text, result in zip(texts, results):\n",
    "    print(f\"'{text}' --> {result['label']} ({result['score']:.2f})\")\n"
   ]
  },
  {
   "cell_type": "code",
   "execution_count": 7,
   "metadata": {},
   "outputs": [],
   "source": [
    "def visualize_scores(session_name, subtask_names, subtask_scores, fuzzy_flags):\n",
    "    avg_score = sum(subtask_scores) / (len(subtask_scores) * 5) * 100\n",
    "    plt.figure(figsize=(6, 4))\n",
    "    bars = plt.bar(subtask_names, subtask_scores, color=['orange' if fuzzy else 'steelblue' for fuzzy in fuzzy_flags])\n",
    "    plt.ylim(0, 5)\n",
    "    plt.ylabel(\"Input Clarity Rating (0–5)\")\n",
    "    plt.xlabel(\"Sub-task Name\")\n",
    "    plt.title(f\"Sub-task Scores in '{session_name}'\\n(Average Score: {avg_score:.1f}%)\")\n",
    "\n",
    "    for i, bar in enumerate(bars):\n",
    "        score = subtask_scores[i]\n",
    "        label = f\"{score:.1f}\" + (\"*\" if fuzzy_flags[i] else \"\")\n",
    "        plt.text(bar.get_x() + bar.get_width() / 2, score + 0.1, label, ha='center')\n",
    "\n",
    "    plt.grid(axis='y', linestyle='--', alpha=0.6)\n",
    "    plt.tight_layout()\n",
    "    plt.show()\n",
    "    print(f\"Detected {sum(fuzzy_flags)} vague input(s) out of {len(fuzzy_flags)}.\")"
   ]
  },
  {
   "cell_type": "code",
   "execution_count": 8,
   "metadata": {},
   "outputs": [],
   "source": [
    "\n",
    "def classify_vagueness_and_score(comments):\n",
    "    fuzzy_flags = []\n",
    "    clarity_scores = []\n",
    "    for text in comments:\n",
    "        inputs = tokenizer(text, return_tensors=\"pt\")\n",
    "        with torch.no_grad():\n",
    "            logits = model(**inputs).logits\n",
    "        probs = torch.nn.functional.softmax(logits, dim=1)\n",
    "        vague_prob = probs[0][1].item()\n",
    "        fuzzy_flags.append(vague_prob > 0.5)\n",
    "        clarity_scores.append(round((1 - vague_prob) * 5, 2))  # Scale from 0–5\n",
    "    return fuzzy_flags, clarity_scores\n"
   ]
  },
  {
   "cell_type": "code",
   "execution_count": 9,
   "metadata": {},
   "outputs": [
    {
     "name": "stdout",
     "output_type": "stream",
     "text": [
      "<?xml version=\"1.0\" encoding=\"utf-8\"?>\n",
      "<task>\n",
      " <result>\n",
      "  65%\n",
      " </result>\n",
      " <taskName>\n",
      "  Telehealth Consent Session\n",
      " </taskName>\n",
      " <secordTask>\n",
      "  <item>\n",
      "   <taskName>\n",
      "    Age Declaration\n",
      "   </taskName>\n",
      "   <result>\n",
      "    3\n",
      "   </result>\n",
      "   <comment>\n",
      "    I’m almost 18\n",
      "   </comment>\n",
      "  </item>\n",
      "  <item>\n",
      "   <taskName>\n",
      "    State Location Confirmation\n",
      "   </taskName>\n",
      "   <result>\n",
      "    4\n",
      "   </result>\n",
      "   <comment>\n",
      "    Somewhere in Missouri\n",
      "   </comment>\n",
      "  </item>\n",
      "  <item>\n",
      "   <taskName>\n",
      "    Health Issue Description\n"
     ]
    }
   ],
   "source": [
    "from bs4 import BeautifulSoup\n",
    "with open(\"consent_session_with_comments.xml\", \"r\", encoding=\"utf-8\") as f:\n",
    "    soup = BeautifulSoup(f, \"xml\")\n",
    "print(soup.prettify()[:500]) "
   ]
  },
  {
   "cell_type": "code",
   "execution_count": 10,
   "metadata": {},
   "outputs": [
    {
     "data": {
      "image/png": "[encoded data removed]",
      "text/plain": [
       "<Figure size 600x400 with 1 Axes>"
      ]
     },
     "metadata": {},
     "output_type": "display_data"
    },
    {
     "name": "stdout",
     "output_type": "stream",
     "text": [
      "Detected 3 vague input(s) out of 3.\n"
     ]
    }
   ],
   "source": [
    "\n",
    "xml_path = \"consent_session_with_comments.xml\"\n",
    "\n",
    "session_name, overall_score, subtask_names, subtask_scores_original, comments = parse_consent_session_xml(xml_path)\n",
    "fuzzy_flags, clarity_scores = classify_vagueness_and_score(comments)\n",
    "visualize_scores(session_name, subtask_names, clarity_scores, fuzzy_flags)\n"
   ]
  },
  {
   "cell_type": "code",
   "execution_count": 12,
   "metadata": {},
   "outputs": [],
   "source": [
    "def plot_heatmap_clarity_scores(subtask_names, clarity_scores):\n",
    "    import pandas as pd\n",
    "    import matplotlib.pyplot as plt\n",
    "    import seaborn as sns\n",
    "\n",
    "    df = pd.DataFrame({\n",
    "        \"Sub-task\": subtask_names,\n",
    "        \"Clarity Score\": clarity_scores\n",
    "    })\n",
    "\n",
    "    plt.figure(figsize=(6, 2))\n",
    "    sns.heatmap(\n",
    "        df[[\"Clarity Score\"]].T,\n",
    "        annot=True,\n",
    "        fmt=\".1f\",\n",
    "        cmap=\"YlOrRd_r\",\n",
    "        cbar=True,\n",
    "        xticklabels=df[\"Sub-task\"],\n",
    "        yticklabels=[\"Input Clarity\"]\n",
    "    )\n",
    "    plt.title(\"Input Clarity Heatmap for Consent Sub-tasks\")\n",
    "    plt.tight_layout()\n",
    "    plt.show()\n"
   ]
  },
  {
   "cell_type": "code",
   "execution_count": 15,
   "metadata": {},
   "outputs": [
    {
     "name": "stdout",
     "output_type": "stream",
     "text": [
      "Collecting pandas\n",
      "  Using cached pandas-2.3.1-cp310-cp310-win_amd64.whl.metadata (19 kB)\n",
      "Collecting seaborn\n",
      "  Using cached seaborn-0.13.2-py3-none-any.whl.metadata (5.4 kB)\n",
      "Requirement already satisfied: numpy>=1.22.4 in c:\\users\\skybl\\appdata\\local\\conda\\conda\\envs\\fuzzy-consent\\lib\\site-packages (from pandas) (2.2.6)\n",
      "Requirement already satisfied: python-dateutil>=2.8.2 in c:\\users\\skybl\\appdata\\local\\conda\\conda\\envs\\fuzzy-consent\\lib\\site-packages (from pandas) (2.9.0.post0)\n",
      "Collecting pytz>=2020.1 (from pandas)\n",
      "  Using cached pytz-2025.2-py2.py3-none-any.whl.metadata (22 kB)\n",
      "Collecting tzdata>=2022.7 (from pandas)\n",
      "  Using cached tzdata-2025.2-py2.py3-none-any.whl.metadata (1.4 kB)\n",
      "Requirement already satisfied: matplotlib!=3.6.1,>=3.4 in c:\\users\\skybl\\appdata\\local\\conda\\conda\\envs\\fuzzy-consent\\lib\\site-packages (from seaborn) (3.10.3)\n",
      "Requirement already satisfied: contourpy>=1.0.1 in c:\\users\\skybl\\appdata\\local\\conda\\conda\\envs\\fuzzy-consent\\lib\\site-packages (from matplotlib!=3.6.1,>=3.4->seaborn) (1.3.2)\n",
      "Requirement already satisfied: cycler>=0.10 in c:\\users\\skybl\\appdata\\local\\conda\\conda\\envs\\fuzzy-consent\\lib\\site-packages (from matplotlib!=3.6.1,>=3.4->seaborn) (0.12.1)\n",
      "Requirement already satisfied: fonttools>=4.22.0 in c:\\users\\skybl\\appdata\\local\\conda\\conda\\envs\\fuzzy-consent\\lib\\site-packages (from matplotlib!=3.6.1,>=3.4->seaborn) (4.59.0)\n",
      "Requirement already satisfied: kiwisolver>=1.3.1 in c:\\users\\skybl\\appdata\\local\\conda\\conda\\envs\\fuzzy-consent\\lib\\site-packages (from matplotlib!=3.6.1,>=3.4->seaborn) (1.4.8)\n",
      "Requirement already satisfied: packaging>=20.0 in c:\\users\\skybl\\appdata\\local\\conda\\conda\\envs\\fuzzy-consent\\lib\\site-packages (from matplotlib!=3.6.1,>=3.4->seaborn) (25.0)\n",
      "Requirement already satisfied: pillow>=8 in c:\\users\\skybl\\appdata\\local\\conda\\conda\\envs\\fuzzy-consent\\lib\\site-packages (from matplotlib!=3.6.1,>=3.4->seaborn) (11.3.0)\n",
      "Requirement already satisfied: pyparsing>=2.3.1 in c:\\users\\skybl\\appdata\\local\\conda\\conda\\envs\\fuzzy-consent\\lib\\site-packages (from matplotlib!=3.6.1,>=3.4->seaborn) (3.2.3)\n",
      "Requirement already satisfied: six>=1.5 in c:\\users\\skybl\\appdata\\local\\conda\\conda\\envs\\fuzzy-consent\\lib\\site-packages (from python-dateutil>=2.8.2->pandas) (1.17.0)\n",
      "Using cached pandas-2.3.1-cp310-cp310-win_amd64.whl (11.3 MB)\n",
      "Using cached seaborn-0.13.2-py3-none-any.whl (294 kB)\n",
      "Using cached pytz-2025.2-py2.py3-none-any.whl (509 kB)\n",
      "Using cached tzdata-2025.2-py2.py3-none-any.whl (347 kB)\n",
      "Installing collected packages: pytz, tzdata, pandas, seaborn\n",
      "\n",
      "   ---------------------------------------- 0/4 [pytz]\n",
      "   ---------------------------------------- 0/4 [pytz]\n",
      "   ---------- ----------------------------- 1/4 [tzdata]\n",
      "   ---------- ----------------------------- 1/4 [tzdata]\n",
      "   ---------- ----------------------------- 1/4 [tzdata]\n",
      "   -------------------- ------------------- 2/4 [pandas]\n",
      "   -------------------- ------------------- 2/4 [pandas]\n",
      "   -------------------- ------------------- 2/4 [pandas]\n",
      "   -------------------- ------------------- 2/4 [pandas]\n",
      "   -------------------- ------------------- 2/4 [pandas]\n",
      "   -------------------- ------------------- 2/4 [pandas]\n",
      "   -------------------- ------------------- 2/4 [pandas]\n",
      "   -------------------- ------------------- 2/4 [pandas]\n",
      "   -------------------- ------------------- 2/4 [pandas]\n",
      "   -------------------- ------------------- 2/4 [pandas]\n",
      "   -------------------- ------------------- 2/4 [pandas]\n",
      "   -------------------- ------------------- 2/4 [pandas]\n",
      "   -------------------- ------------------- 2/4 [pandas]\n",
      "   -------------------- ------------------- 2/4 [pandas]\n",
      "   -------------------- ------------------- 2/4 [pandas]\n",
      "   -------------------- ------------------- 2/4 [pandas]\n",
      "   -------------------- ------------------- 2/4 [pandas]\n",
      "   -------------------- ------------------- 2/4 [pandas]\n",
      "   -------------------- ------------------- 2/4 [pandas]\n",
      "   -------------------- ------------------- 2/4 [pandas]\n",
      "   -------------------- ------------------- 2/4 [pandas]\n",
      "   -------------------- ------------------- 2/4 [pandas]\n",
      "   -------------------- ------------------- 2/4 [pandas]\n",
      "   -------------------- ------------------- 2/4 [pandas]\n",
      "   -------------------- ------------------- 2/4 [pandas]\n",
      "   -------------------- ------------------- 2/4 [pandas]\n",
      "   -------------------- ------------------- 2/4 [pandas]\n",
      "   -------------------- ------------------- 2/4 [pandas]\n",
      "   -------------------- ------------------- 2/4 [pandas]\n",
      "   -------------------- ------------------- 2/4 [pandas]\n",
      "   -------------------- ------------------- 2/4 [pandas]\n",
      "   -------------------- ------------------- 2/4 [pandas]\n",
      "   -------------------- ------------------- 2/4 [pandas]\n",
      "   -------------------- ------------------- 2/4 [pandas]\n",
      "   -------------------- ------------------- 2/4 [pandas]\n",
      "   -------------------- ------------------- 2/4 [pandas]\n",
      "   -------------------- ------------------- 2/4 [pandas]\n",
      "   -------------------- ------------------- 2/4 [pandas]\n",
      "   -------------------- ------------------- 2/4 [pandas]\n",
      "   -------------------- ------------------- 2/4 [pandas]\n",
      "   -------------------- ------------------- 2/4 [pandas]\n",
      "   -------------------- ------------------- 2/4 [pandas]\n",
      "   -------------------- ------------------- 2/4 [pandas]\n",
      "   -------------------- ------------------- 2/4 [pandas]\n",
      "   -------------------- ------------------- 2/4 [pandas]\n",
      "   -------------------- ------------------- 2/4 [pandas]\n",
      "   -------------------- ------------------- 2/4 [pandas]\n",
      "   -------------------- ------------------- 2/4 [pandas]\n",
      "   -------------------- ------------------- 2/4 [pandas]\n",
      "   -------------------- ------------------- 2/4 [pandas]\n",
      "   -------------------- ------------------- 2/4 [pandas]\n",
      "   -------------------- ------------------- 2/4 [pandas]\n",
      "   -------------------- ------------------- 2/4 [pandas]\n",
      "   -------------------- ------------------- 2/4 [pandas]\n",
      "   -------------------- ------------------- 2/4 [pandas]\n",
      "   -------------------- ------------------- 2/4 [pandas]\n",
      "   -------------------- ------------------- 2/4 [pandas]\n",
      "   -------------------- ------------------- 2/4 [pandas]\n",
      "   -------------------- ------------------- 2/4 [pandas]\n",
      "   -------------------- ------------------- 2/4 [pandas]\n",
      "   -------------------- ------------------- 2/4 [pandas]\n",
      "   -------------------- ------------------- 2/4 [pandas]\n",
      "   -------------------- ------------------- 2/4 [pandas]\n",
      "   -------------------- ------------------- 2/4 [pandas]\n",
      "   -------------------- ------------------- 2/4 [pandas]\n",
      "   -------------------- ------------------- 2/4 [pandas]\n",
      "   -------------------- ------------------- 2/4 [pandas]\n",
      "   -------------------- ------------------- 2/4 [pandas]\n",
      "   -------------------- ------------------- 2/4 [pandas]\n",
      "   -------------------- ------------------- 2/4 [pandas]\n",
      "   -------------------- ------------------- 2/4 [pandas]\n",
      "   -------------------- ------------------- 2/4 [pandas]\n",
      "   -------------------- ------------------- 2/4 [pandas]\n",
      "   -------------------- ------------------- 2/4 [pandas]\n",
      "   -------------------- ------------------- 2/4 [pandas]\n",
      "   -------------------- ------------------- 2/4 [pandas]\n",
      "   -------------------- ------------------- 2/4 [pandas]\n",
      "   -------------------- ------------------- 2/4 [pandas]\n",
      "   -------------------- ------------------- 2/4 [pandas]\n",
      "   ------------------------------ --------- 3/4 [seaborn]\n",
      "   ------------------------------ --------- 3/4 [seaborn]\n",
      "   ------------------------------ --------- 3/4 [seaborn]\n",
      "   ---------------------------------------- 4/4 [seaborn]\n",
      "\n",
      "Successfully installed pandas-2.3.1 pytz-2025.2 seaborn-0.13.2 tzdata-2025.2\n"
     ]
    }
   ],
   "source": [
    "!pip install pandas seaborn"
   ]
  },
  {
   "cell_type": "code",
   "execution_count": 16,
   "metadata": {},
   "outputs": [
    {
     "name": "stderr",
     "output_type": "stream",
     "text": [
      "C:\\Users\\skybl\\AppData\\Local\\Temp\\ipykernel_15112\\3760848767.py:22: UserWarning: Tight layout not applied. The bottom and top margins cannot be made large enough to accommodate all Axes decorations.\n",
      "  plt.tight_layout()\n"
     ]
    },
    {
     "data": {
      "image/png": "[encoded data removed]",
      "text/plain": [
       "<Figure size 600x200 with 2 Axes>"
      ]
     },
     "metadata": {},
     "output_type": "display_data"
    }
   ],
   "source": [
    "plot_heatmap_clarity_scores(subtask_names, clarity_scores)"
   ]
  },
  {
   "cell_type": "code",
   "execution_count": null,
   "metadata": {},
   "outputs": [],
   "source": []
  }
 ],
 "metadata": {
  "kernelspec": {
   "display_name": "Python (fuzzy-consent)",
   "language": "python",
   "name": "fuzzy-consent"
  },
  "language_info": {
   "codemirror_mode": {
    "name": "ipython",
    "version": 3
   },
   "file_extension": ".py",
   "mimetype": "text/x-python",
   "name": "python",
   "nbconvert_exporter": "python",
   "pygments_lexer": "ipython3",
   "version": "3.10.18"
  }
 },
 "nbformat": 4,
 "nbformat_minor": 5
}
